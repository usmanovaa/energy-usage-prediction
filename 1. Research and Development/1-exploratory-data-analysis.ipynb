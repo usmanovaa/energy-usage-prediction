{
 "cells": [
  {
   "cell_type": "markdown",
   "id": "868719cd",
   "metadata": {},
   "source": [
    "# Machine Learning Pipeline - Exploratory Data Analysis\n",
    "\n",
    "\n",
    "1. **Exploratory Data Analysis**\n",
    "2. Feature Engineering\n",
    "3. Feature Selection\n",
    "4. Model Trainng\n",
    "5. Obtaining Predictions / Scoring"
   ]
  },
  {
   "cell_type": "markdown",
   "id": "3630bd77",
   "metadata": {},
   "source": [
    "======================================================================================================================\n",
    "## Predicting Building Energy Usage\n",
    "\n",
    "The aim of the project is to develop an accurate model of metered building energy usage in such areas as chilled water, electric, hot water, and steam meters based on historic usage rates and observed weather over a three-year timeframe.\n",
    "\n",
    "### Why is this important? \n",
    "\n",
    "Predicting building energy usage can help to understand if the improvement of building efficiencies brings positive impact. With better estimates of these energy-saving investments, investors and financial institutions will be more inclined to invest in this area to enable progress in building efficiencies that will help to reduce future energy costs and emissions.\n",
    "\n",
    "### What is the objective of the machine learning model?\n",
    "\n",
    "We aim to minimise the difference between the real energy consumption and the energy usage estimated by our model. Model performance is estimated with the:\n",
    "\n",
    "1. Root Mean Squared Logarithmic Error (main)\n",
    "\n",
    "2. Mean Squared error (mse)\n",
    "\n",
    "3. Root Squared of the mean squared error (rmse)\n",
    "\n",
    "4. R-squared (r2)\n",
    "\n",
    "======================================================================================================================\n"
   ]
  },
  {
   "cell_type": "markdown",
   "id": "8786272d",
   "metadata": {},
   "source": [
    "## Data\n",
    "\n",
    "Data is taken from the Kaggle Competition: https://www.kaggle.com/competitions/ashrae-energy-prediction/.\n",
    "\n",
    "It consists of the following files:\n",
    "\n",
    "#### train.csv\n",
    "\n",
    "- **building_id** - Foreign key for the building metadata.\n",
    "- **meter** - The meter id code. Read as {0: electricity, 1: chilledwater, 2: steam, 3: hotwater}. Not every building has all meter types.\n",
    "- **timestamp** - When the measurement was taken\n",
    "- **meter_reading** - The target variable. Energy consumption in kWh (or equivalent).\n",
    "\n",
    "#### building_meta.csv\n",
    "\n",
    "- **site_id** - Foreign key for the weather files.\n",
    "- **building_id** - Foreign key for train.csv\n",
    "- **primary_use** - Indicator of the primary category of activities for the building based on EnergyStar property type definitions\n",
    "- **square_feet** - Gross floor area of the building\n",
    "- **year_built** - Year building was opened\n",
    "- **floor_count** - Number of floors of the building\n",
    "\n",
    "#### weather_[train/test].csv\n",
    "\n",
    "Weather data from a meteorological station as close as possible to the site.\n",
    "\n",
    "- **site_id**\n",
    "- **air_temperature** - Degrees Celsius\n",
    "- **cloud_coverage** - Portion of the sky covered in clouds, in oktas\n",
    "- **dew_temperature** - Degrees Celsius\n",
    "- **precip_depth_1_hr** - Millimeters\n",
    "- **sea_level_pressure** - Millibar/hectopascals\n",
    "- **wind_direction** - Compass direction (0-360)\n",
    "- **wind_speed** - Meters per second\n",
    "\n",
    "#### test.csv \n",
    "\n",
    "- **row_id** - Row id for the submission file\n",
    "- **building_id** - Building id code\n",
    "- **meter** - The meter id code\n",
    "- **timestamp** - Timestamps for the test data period\n",
    "\n",
    "======================================================================================================================\n",
    "\n",
    "Target variable is **meter_reading** from train.csv."
   ]
  },
  {
   "cell_type": "markdown",
   "id": "d1faa7cb",
   "metadata": {},
   "source": [
    "## 1. Loading the data"
   ]
  },
  {
   "cell_type": "code",
   "execution_count": 1,
   "id": "406e5f08",
   "metadata": {},
   "outputs": [],
   "source": [
    "import pandas as pd\n",
    "import numpy as np\n",
    "\n",
    "import matplotlib.pyplot as plt\n",
    "import seaborn as sns"
   ]
  },
  {
   "cell_type": "code",
   "execution_count": 2,
   "id": "2693a73d",
   "metadata": {},
   "outputs": [
    {
     "name": "stdout",
     "output_type": "stream",
     "text": [
      "train: (20216100, 4)\n",
      "building_metadata: (1449, 6)\n",
      "weather_train: (139773, 9)\n"
     ]
    }
   ],
   "source": [
    "train = pd.read_csv('data/train.csv')\n",
    "building = pd.read_csv('data/building_metadata.csv')\n",
    "weather_train = pd.read_csv('data/weather_train.csv')\n",
    "\n",
    "print('train:', train.shape)\n",
    "print('building_metadata:', building.shape)\n",
    "print('weather_train:', weather_train.shape)"
   ]
  },
  {
   "cell_type": "code",
   "execution_count": 3,
   "id": "d3d8edfb",
   "metadata": {},
   "outputs": [
    {
     "data": {
      "text/html": [
       "<div>\n",
       "<style scoped>\n",
       "    .dataframe tbody tr th:only-of-type {\n",
       "        vertical-align: middle;\n",
       "    }\n",
       "\n",
       "    .dataframe tbody tr th {\n",
       "        vertical-align: top;\n",
       "    }\n",
       "\n",
       "    .dataframe thead th {\n",
       "        text-align: right;\n",
       "    }\n",
       "</style>\n",
       "<table border=\"1\" class=\"dataframe\">\n",
       "  <thead>\n",
       "    <tr style=\"text-align: right;\">\n",
       "      <th></th>\n",
       "      <th>building_id</th>\n",
       "      <th>meter</th>\n",
       "      <th>timestamp</th>\n",
       "      <th>meter_reading</th>\n",
       "    </tr>\n",
       "  </thead>\n",
       "  <tbody>\n",
       "    <tr>\n",
       "      <th>0</th>\n",
       "      <td>0</td>\n",
       "      <td>0</td>\n",
       "      <td>2016-01-01 00:00:00</td>\n",
       "      <td>0.0</td>\n",
       "    </tr>\n",
       "    <tr>\n",
       "      <th>1</th>\n",
       "      <td>1</td>\n",
       "      <td>0</td>\n",
       "      <td>2016-01-01 00:00:00</td>\n",
       "      <td>0.0</td>\n",
       "    </tr>\n",
       "    <tr>\n",
       "      <th>2</th>\n",
       "      <td>2</td>\n",
       "      <td>0</td>\n",
       "      <td>2016-01-01 00:00:00</td>\n",
       "      <td>0.0</td>\n",
       "    </tr>\n",
       "    <tr>\n",
       "      <th>3</th>\n",
       "      <td>3</td>\n",
       "      <td>0</td>\n",
       "      <td>2016-01-01 00:00:00</td>\n",
       "      <td>0.0</td>\n",
       "    </tr>\n",
       "    <tr>\n",
       "      <th>4</th>\n",
       "      <td>4</td>\n",
       "      <td>0</td>\n",
       "      <td>2016-01-01 00:00:00</td>\n",
       "      <td>0.0</td>\n",
       "    </tr>\n",
       "  </tbody>\n",
       "</table>\n",
       "</div>"
      ],
      "text/plain": [
       "   building_id  meter            timestamp  meter_reading\n",
       "0            0      0  2016-01-01 00:00:00            0.0\n",
       "1            1      0  2016-01-01 00:00:00            0.0\n",
       "2            2      0  2016-01-01 00:00:00            0.0\n",
       "3            3      0  2016-01-01 00:00:00            0.0\n",
       "4            4      0  2016-01-01 00:00:00            0.0"
      ]
     },
     "execution_count": 3,
     "metadata": {},
     "output_type": "execute_result"
    }
   ],
   "source": [
    "train.head()"
   ]
  },
  {
   "cell_type": "code",
   "execution_count": 4,
   "id": "90250008",
   "metadata": {},
   "outputs": [
    {
     "data": {
      "text/html": [
       "<div>\n",
       "<style scoped>\n",
       "    .dataframe tbody tr th:only-of-type {\n",
       "        vertical-align: middle;\n",
       "    }\n",
       "\n",
       "    .dataframe tbody tr th {\n",
       "        vertical-align: top;\n",
       "    }\n",
       "\n",
       "    .dataframe thead th {\n",
       "        text-align: right;\n",
       "    }\n",
       "</style>\n",
       "<table border=\"1\" class=\"dataframe\">\n",
       "  <thead>\n",
       "    <tr style=\"text-align: right;\">\n",
       "      <th></th>\n",
       "      <th>site_id</th>\n",
       "      <th>building_id</th>\n",
       "      <th>primary_use</th>\n",
       "      <th>square_feet</th>\n",
       "      <th>year_built</th>\n",
       "      <th>floor_count</th>\n",
       "    </tr>\n",
       "  </thead>\n",
       "  <tbody>\n",
       "    <tr>\n",
       "      <th>0</th>\n",
       "      <td>0</td>\n",
       "      <td>0</td>\n",
       "      <td>Education</td>\n",
       "      <td>7432</td>\n",
       "      <td>2008.0</td>\n",
       "      <td>NaN</td>\n",
       "    </tr>\n",
       "    <tr>\n",
       "      <th>1</th>\n",
       "      <td>0</td>\n",
       "      <td>1</td>\n",
       "      <td>Education</td>\n",
       "      <td>2720</td>\n",
       "      <td>2004.0</td>\n",
       "      <td>NaN</td>\n",
       "    </tr>\n",
       "    <tr>\n",
       "      <th>2</th>\n",
       "      <td>0</td>\n",
       "      <td>2</td>\n",
       "      <td>Education</td>\n",
       "      <td>5376</td>\n",
       "      <td>1991.0</td>\n",
       "      <td>NaN</td>\n",
       "    </tr>\n",
       "    <tr>\n",
       "      <th>3</th>\n",
       "      <td>0</td>\n",
       "      <td>3</td>\n",
       "      <td>Education</td>\n",
       "      <td>23685</td>\n",
       "      <td>2002.0</td>\n",
       "      <td>NaN</td>\n",
       "    </tr>\n",
       "    <tr>\n",
       "      <th>4</th>\n",
       "      <td>0</td>\n",
       "      <td>4</td>\n",
       "      <td>Education</td>\n",
       "      <td>116607</td>\n",
       "      <td>1975.0</td>\n",
       "      <td>NaN</td>\n",
       "    </tr>\n",
       "  </tbody>\n",
       "</table>\n",
       "</div>"
      ],
      "text/plain": [
       "   site_id  building_id primary_use  square_feet  year_built  floor_count\n",
       "0        0            0   Education         7432      2008.0          NaN\n",
       "1        0            1   Education         2720      2004.0          NaN\n",
       "2        0            2   Education         5376      1991.0          NaN\n",
       "3        0            3   Education        23685      2002.0          NaN\n",
       "4        0            4   Education       116607      1975.0          NaN"
      ]
     },
     "execution_count": 4,
     "metadata": {},
     "output_type": "execute_result"
    }
   ],
   "source": [
    "building.head()"
   ]
  },
  {
   "cell_type": "code",
   "execution_count": 5,
   "id": "951f48c3",
   "metadata": {},
   "outputs": [
    {
     "data": {
      "text/html": [
       "<div>\n",
       "<style scoped>\n",
       "    .dataframe tbody tr th:only-of-type {\n",
       "        vertical-align: middle;\n",
       "    }\n",
       "\n",
       "    .dataframe tbody tr th {\n",
       "        vertical-align: top;\n",
       "    }\n",
       "\n",
       "    .dataframe thead th {\n",
       "        text-align: right;\n",
       "    }\n",
       "</style>\n",
       "<table border=\"1\" class=\"dataframe\">\n",
       "  <thead>\n",
       "    <tr style=\"text-align: right;\">\n",
       "      <th></th>\n",
       "      <th>site_id</th>\n",
       "      <th>timestamp</th>\n",
       "      <th>air_temperature</th>\n",
       "      <th>cloud_coverage</th>\n",
       "      <th>dew_temperature</th>\n",
       "      <th>precip_depth_1_hr</th>\n",
       "      <th>sea_level_pressure</th>\n",
       "      <th>wind_direction</th>\n",
       "      <th>wind_speed</th>\n",
       "    </tr>\n",
       "  </thead>\n",
       "  <tbody>\n",
       "    <tr>\n",
       "      <th>0</th>\n",
       "      <td>0</td>\n",
       "      <td>2016-01-01 00:00:00</td>\n",
       "      <td>25.0</td>\n",
       "      <td>6.0</td>\n",
       "      <td>20.0</td>\n",
       "      <td>NaN</td>\n",
       "      <td>1019.7</td>\n",
       "      <td>0.0</td>\n",
       "      <td>0.0</td>\n",
       "    </tr>\n",
       "    <tr>\n",
       "      <th>1</th>\n",
       "      <td>0</td>\n",
       "      <td>2016-01-01 01:00:00</td>\n",
       "      <td>24.4</td>\n",
       "      <td>NaN</td>\n",
       "      <td>21.1</td>\n",
       "      <td>-1.0</td>\n",
       "      <td>1020.2</td>\n",
       "      <td>70.0</td>\n",
       "      <td>1.5</td>\n",
       "    </tr>\n",
       "    <tr>\n",
       "      <th>2</th>\n",
       "      <td>0</td>\n",
       "      <td>2016-01-01 02:00:00</td>\n",
       "      <td>22.8</td>\n",
       "      <td>2.0</td>\n",
       "      <td>21.1</td>\n",
       "      <td>0.0</td>\n",
       "      <td>1020.2</td>\n",
       "      <td>0.0</td>\n",
       "      <td>0.0</td>\n",
       "    </tr>\n",
       "    <tr>\n",
       "      <th>3</th>\n",
       "      <td>0</td>\n",
       "      <td>2016-01-01 03:00:00</td>\n",
       "      <td>21.1</td>\n",
       "      <td>2.0</td>\n",
       "      <td>20.6</td>\n",
       "      <td>0.0</td>\n",
       "      <td>1020.1</td>\n",
       "      <td>0.0</td>\n",
       "      <td>0.0</td>\n",
       "    </tr>\n",
       "    <tr>\n",
       "      <th>4</th>\n",
       "      <td>0</td>\n",
       "      <td>2016-01-01 04:00:00</td>\n",
       "      <td>20.0</td>\n",
       "      <td>2.0</td>\n",
       "      <td>20.0</td>\n",
       "      <td>-1.0</td>\n",
       "      <td>1020.0</td>\n",
       "      <td>250.0</td>\n",
       "      <td>2.6</td>\n",
       "    </tr>\n",
       "  </tbody>\n",
       "</table>\n",
       "</div>"
      ],
      "text/plain": [
       "   site_id            timestamp  air_temperature  cloud_coverage  \\\n",
       "0        0  2016-01-01 00:00:00             25.0             6.0   \n",
       "1        0  2016-01-01 01:00:00             24.4             NaN   \n",
       "2        0  2016-01-01 02:00:00             22.8             2.0   \n",
       "3        0  2016-01-01 03:00:00             21.1             2.0   \n",
       "4        0  2016-01-01 04:00:00             20.0             2.0   \n",
       "\n",
       "   dew_temperature  precip_depth_1_hr  sea_level_pressure  wind_direction  \\\n",
       "0             20.0                NaN              1019.7             0.0   \n",
       "1             21.1               -1.0              1020.2            70.0   \n",
       "2             21.1                0.0              1020.2             0.0   \n",
       "3             20.6                0.0              1020.1             0.0   \n",
       "4             20.0               -1.0              1020.0           250.0   \n",
       "\n",
       "   wind_speed  \n",
       "0         0.0  \n",
       "1         1.5  \n",
       "2         0.0  \n",
       "3         0.0  \n",
       "4         2.6  "
      ]
     },
     "execution_count": 5,
     "metadata": {},
     "output_type": "execute_result"
    }
   ],
   "source": [
    "weather_train.head()"
   ]
  },
  {
   "cell_type": "markdown",
   "id": "7f3ddd25",
   "metadata": {},
   "source": [
    "### 1.1 Merging the data"
   ]
  },
  {
   "cell_type": "code",
   "execution_count": 6,
   "id": "ea809e7e",
   "metadata": {},
   "outputs": [
    {
     "name": "stdout",
     "output_type": "stream",
     "text": [
      "Number of unique buildings in the dataset: 1449\n",
      "Number of unique sites: 16\n"
     ]
    }
   ],
   "source": [
    "print('Number of unique buildings in the dataset:', len(train['building_id'].unique()))\n",
    "print('Number of unique sites:', len(building['site_id'].unique()))"
   ]
  },
  {
   "cell_type": "code",
   "execution_count": 7,
   "id": "3e4df77e",
   "metadata": {},
   "outputs": [
    {
     "name": "stdout",
     "output_type": "stream",
     "text": [
      "All unique primary keys in datasets fit to each other. So there is no problem to merge data sources.\n"
     ]
    }
   ],
   "source": [
    "assert sorted(list(train['building_id'].unique())) == list(building['building_id'].unique())\n",
    "assert sorted(list(building['site_id'].unique())) == list(weather_train['site_id'].unique())\n",
    "assert sorted(list(train['timestamp'].unique())) == list(weather_train['timestamp'].unique())\n",
    "\n",
    "print('All unique primary keys in datasets fit to each other. So there is no problem to merge data sources.')"
   ]
  },
  {
   "cell_type": "code",
   "execution_count": 8,
   "id": "b1da3c37",
   "metadata": {},
   "outputs": [
    {
     "name": "stdout",
     "output_type": "stream",
     "text": [
      "(20216100, 16)\n"
     ]
    },
    {
     "data": {
      "text/html": [
       "<div>\n",
       "<style scoped>\n",
       "    .dataframe tbody tr th:only-of-type {\n",
       "        vertical-align: middle;\n",
       "    }\n",
       "\n",
       "    .dataframe tbody tr th {\n",
       "        vertical-align: top;\n",
       "    }\n",
       "\n",
       "    .dataframe thead th {\n",
       "        text-align: right;\n",
       "    }\n",
       "</style>\n",
       "<table border=\"1\" class=\"dataframe\">\n",
       "  <thead>\n",
       "    <tr style=\"text-align: right;\">\n",
       "      <th></th>\n",
       "      <th>building_id</th>\n",
       "      <th>meter</th>\n",
       "      <th>timestamp</th>\n",
       "      <th>meter_reading</th>\n",
       "      <th>site_id</th>\n",
       "      <th>primary_use</th>\n",
       "      <th>square_feet</th>\n",
       "      <th>year_built</th>\n",
       "      <th>floor_count</th>\n",
       "      <th>air_temperature</th>\n",
       "      <th>cloud_coverage</th>\n",
       "      <th>dew_temperature</th>\n",
       "      <th>precip_depth_1_hr</th>\n",
       "      <th>sea_level_pressure</th>\n",
       "      <th>wind_direction</th>\n",
       "      <th>wind_speed</th>\n",
       "    </tr>\n",
       "  </thead>\n",
       "  <tbody>\n",
       "    <tr>\n",
       "      <th>0</th>\n",
       "      <td>0</td>\n",
       "      <td>0</td>\n",
       "      <td>2016-01-01 00:00:00</td>\n",
       "      <td>0.0</td>\n",
       "      <td>0</td>\n",
       "      <td>Education</td>\n",
       "      <td>7432</td>\n",
       "      <td>2008.0</td>\n",
       "      <td>NaN</td>\n",
       "      <td>25.0</td>\n",
       "      <td>6.0</td>\n",
       "      <td>20.0</td>\n",
       "      <td>NaN</td>\n",
       "      <td>1019.7</td>\n",
       "      <td>0.0</td>\n",
       "      <td>0.0</td>\n",
       "    </tr>\n",
       "    <tr>\n",
       "      <th>1</th>\n",
       "      <td>1</td>\n",
       "      <td>0</td>\n",
       "      <td>2016-01-01 00:00:00</td>\n",
       "      <td>0.0</td>\n",
       "      <td>0</td>\n",
       "      <td>Education</td>\n",
       "      <td>2720</td>\n",
       "      <td>2004.0</td>\n",
       "      <td>NaN</td>\n",
       "      <td>25.0</td>\n",
       "      <td>6.0</td>\n",
       "      <td>20.0</td>\n",
       "      <td>NaN</td>\n",
       "      <td>1019.7</td>\n",
       "      <td>0.0</td>\n",
       "      <td>0.0</td>\n",
       "    </tr>\n",
       "    <tr>\n",
       "      <th>2</th>\n",
       "      <td>2</td>\n",
       "      <td>0</td>\n",
       "      <td>2016-01-01 00:00:00</td>\n",
       "      <td>0.0</td>\n",
       "      <td>0</td>\n",
       "      <td>Education</td>\n",
       "      <td>5376</td>\n",
       "      <td>1991.0</td>\n",
       "      <td>NaN</td>\n",
       "      <td>25.0</td>\n",
       "      <td>6.0</td>\n",
       "      <td>20.0</td>\n",
       "      <td>NaN</td>\n",
       "      <td>1019.7</td>\n",
       "      <td>0.0</td>\n",
       "      <td>0.0</td>\n",
       "    </tr>\n",
       "    <tr>\n",
       "      <th>3</th>\n",
       "      <td>3</td>\n",
       "      <td>0</td>\n",
       "      <td>2016-01-01 00:00:00</td>\n",
       "      <td>0.0</td>\n",
       "      <td>0</td>\n",
       "      <td>Education</td>\n",
       "      <td>23685</td>\n",
       "      <td>2002.0</td>\n",
       "      <td>NaN</td>\n",
       "      <td>25.0</td>\n",
       "      <td>6.0</td>\n",
       "      <td>20.0</td>\n",
       "      <td>NaN</td>\n",
       "      <td>1019.7</td>\n",
       "      <td>0.0</td>\n",
       "      <td>0.0</td>\n",
       "    </tr>\n",
       "    <tr>\n",
       "      <th>4</th>\n",
       "      <td>4</td>\n",
       "      <td>0</td>\n",
       "      <td>2016-01-01 00:00:00</td>\n",
       "      <td>0.0</td>\n",
       "      <td>0</td>\n",
       "      <td>Education</td>\n",
       "      <td>116607</td>\n",
       "      <td>1975.0</td>\n",
       "      <td>NaN</td>\n",
       "      <td>25.0</td>\n",
       "      <td>6.0</td>\n",
       "      <td>20.0</td>\n",
       "      <td>NaN</td>\n",
       "      <td>1019.7</td>\n",
       "      <td>0.0</td>\n",
       "      <td>0.0</td>\n",
       "    </tr>\n",
       "  </tbody>\n",
       "</table>\n",
       "</div>"
      ],
      "text/plain": [
       "   building_id  meter            timestamp  meter_reading  site_id  \\\n",
       "0            0      0  2016-01-01 00:00:00            0.0        0   \n",
       "1            1      0  2016-01-01 00:00:00            0.0        0   \n",
       "2            2      0  2016-01-01 00:00:00            0.0        0   \n",
       "3            3      0  2016-01-01 00:00:00            0.0        0   \n",
       "4            4      0  2016-01-01 00:00:00            0.0        0   \n",
       "\n",
       "  primary_use  square_feet  year_built  floor_count  air_temperature  \\\n",
       "0   Education         7432      2008.0          NaN             25.0   \n",
       "1   Education         2720      2004.0          NaN             25.0   \n",
       "2   Education         5376      1991.0          NaN             25.0   \n",
       "3   Education        23685      2002.0          NaN             25.0   \n",
       "4   Education       116607      1975.0          NaN             25.0   \n",
       "\n",
       "   cloud_coverage  dew_temperature  precip_depth_1_hr  sea_level_pressure  \\\n",
       "0             6.0             20.0                NaN              1019.7   \n",
       "1             6.0             20.0                NaN              1019.7   \n",
       "2             6.0             20.0                NaN              1019.7   \n",
       "3             6.0             20.0                NaN              1019.7   \n",
       "4             6.0             20.0                NaN              1019.7   \n",
       "\n",
       "   wind_direction  wind_speed  \n",
       "0             0.0         0.0  \n",
       "1             0.0         0.0  \n",
       "2             0.0         0.0  \n",
       "3             0.0         0.0  \n",
       "4             0.0         0.0  "
      ]
     },
     "execution_count": 8,
     "metadata": {},
     "output_type": "execute_result"
    }
   ],
   "source": [
    "data = train.merge(building, on = 'building_id', how = 'left')\n",
    "data = data.merge(weather_train, on = ['site_id', 'timestamp'], how = 'left')\n",
    "\n",
    "print(data.shape)\n",
    "\n",
    "data.head()"
   ]
  },
  {
   "cell_type": "markdown",
   "id": "48022bb7",
   "metadata": {},
   "source": [
    "### 1.2 Converting timestamp into year, month, day, time"
   ]
  },
  {
   "cell_type": "code",
   "execution_count": 9,
   "id": "adc3513c",
   "metadata": {},
   "outputs": [],
   "source": [
    "data['timestamp'] = pd.to_datetime(data['timestamp'])"
   ]
  },
  {
   "cell_type": "code",
   "execution_count": 10,
   "id": "df9a5edc",
   "metadata": {},
   "outputs": [
    {
     "name": "stdout",
     "output_type": "stream",
     "text": [
      "Time records have only hours as unique values. Year is 2016 for all the records. So we can leave month, day and hour as features.\n"
     ]
    }
   ],
   "source": [
    "assert data['timestamp'].dt.minute.unique() == [0]\n",
    "assert data['timestamp'].dt.second.unique() == [0]\n",
    "assert data['timestamp'].dt.year.unique() == [2016]\n",
    "\n",
    "print('Time records have only hours as unique values. Year is 2016 for all the records. So we can leave month, day and hour as features.')"
   ]
  },
  {
   "cell_type": "code",
   "execution_count": 11,
   "id": "833ac4c0",
   "metadata": {},
   "outputs": [],
   "source": [
    "data['month'] = data['timestamp'].dt.month\n",
    "data['day'] = data['timestamp'].dt.day\n",
    "data['hour'] = data['timestamp'].dt.hour"
   ]
  },
  {
   "cell_type": "code",
   "execution_count": 12,
   "id": "8f2cdfa1",
   "metadata": {},
   "outputs": [
    {
     "name": "stdout",
     "output_type": "stream",
     "text": [
      "(20216100, 19)\n"
     ]
    },
    {
     "data": {
      "text/html": [
       "<div>\n",
       "<style scoped>\n",
       "    .dataframe tbody tr th:only-of-type {\n",
       "        vertical-align: middle;\n",
       "    }\n",
       "\n",
       "    .dataframe tbody tr th {\n",
       "        vertical-align: top;\n",
       "    }\n",
       "\n",
       "    .dataframe thead th {\n",
       "        text-align: right;\n",
       "    }\n",
       "</style>\n",
       "<table border=\"1\" class=\"dataframe\">\n",
       "  <thead>\n",
       "    <tr style=\"text-align: right;\">\n",
       "      <th></th>\n",
       "      <th>building_id</th>\n",
       "      <th>meter</th>\n",
       "      <th>timestamp</th>\n",
       "      <th>meter_reading</th>\n",
       "      <th>site_id</th>\n",
       "      <th>primary_use</th>\n",
       "      <th>square_feet</th>\n",
       "      <th>year_built</th>\n",
       "      <th>floor_count</th>\n",
       "      <th>air_temperature</th>\n",
       "      <th>cloud_coverage</th>\n",
       "      <th>dew_temperature</th>\n",
       "      <th>precip_depth_1_hr</th>\n",
       "      <th>sea_level_pressure</th>\n",
       "      <th>wind_direction</th>\n",
       "      <th>wind_speed</th>\n",
       "      <th>month</th>\n",
       "      <th>day</th>\n",
       "      <th>hour</th>\n",
       "    </tr>\n",
       "  </thead>\n",
       "  <tbody>\n",
       "    <tr>\n",
       "      <th>0</th>\n",
       "      <td>0</td>\n",
       "      <td>0</td>\n",
       "      <td>2016-01-01</td>\n",
       "      <td>0.0</td>\n",
       "      <td>0</td>\n",
       "      <td>Education</td>\n",
       "      <td>7432</td>\n",
       "      <td>2008.0</td>\n",
       "      <td>NaN</td>\n",
       "      <td>25.0</td>\n",
       "      <td>6.0</td>\n",
       "      <td>20.0</td>\n",
       "      <td>NaN</td>\n",
       "      <td>1019.7</td>\n",
       "      <td>0.0</td>\n",
       "      <td>0.0</td>\n",
       "      <td>1</td>\n",
       "      <td>1</td>\n",
       "      <td>0</td>\n",
       "    </tr>\n",
       "    <tr>\n",
       "      <th>1</th>\n",
       "      <td>1</td>\n",
       "      <td>0</td>\n",
       "      <td>2016-01-01</td>\n",
       "      <td>0.0</td>\n",
       "      <td>0</td>\n",
       "      <td>Education</td>\n",
       "      <td>2720</td>\n",
       "      <td>2004.0</td>\n",
       "      <td>NaN</td>\n",
       "      <td>25.0</td>\n",
       "      <td>6.0</td>\n",
       "      <td>20.0</td>\n",
       "      <td>NaN</td>\n",
       "      <td>1019.7</td>\n",
       "      <td>0.0</td>\n",
       "      <td>0.0</td>\n",
       "      <td>1</td>\n",
       "      <td>1</td>\n",
       "      <td>0</td>\n",
       "    </tr>\n",
       "  </tbody>\n",
       "</table>\n",
       "</div>"
      ],
      "text/plain": [
       "   building_id  meter  timestamp  meter_reading  site_id primary_use  \\\n",
       "0            0      0 2016-01-01            0.0        0   Education   \n",
       "1            1      0 2016-01-01            0.0        0   Education   \n",
       "\n",
       "   square_feet  year_built  floor_count  air_temperature  cloud_coverage  \\\n",
       "0         7432      2008.0          NaN             25.0             6.0   \n",
       "1         2720      2004.0          NaN             25.0             6.0   \n",
       "\n",
       "   dew_temperature  precip_depth_1_hr  sea_level_pressure  wind_direction  \\\n",
       "0             20.0                NaN              1019.7             0.0   \n",
       "1             20.0                NaN              1019.7             0.0   \n",
       "\n",
       "   wind_speed  month  day  hour  \n",
       "0         0.0      1    1     0  \n",
       "1         0.0      1    1     0  "
      ]
     },
     "execution_count": 12,
     "metadata": {},
     "output_type": "execute_result"
    }
   ],
   "source": [
    "print(data.shape)\n",
    "data.head(2)"
   ]
  },
  {
   "cell_type": "code",
   "execution_count": 13,
   "id": "5f481164",
   "metadata": {},
   "outputs": [
    {
     "ename": "KeyboardInterrupt",
     "evalue": "",
     "output_type": "error",
     "traceback": [
      "\u001b[0;31m---------------------------------------------------------------------------\u001b[0m",
      "\u001b[0;31mKeyboardInterrupt\u001b[0m                         Traceback (most recent call last)",
      "Input \u001b[0;32mIn [13]\u001b[0m, in \u001b[0;36m<cell line: 12>\u001b[0;34m()\u001b[0m\n\u001b[1;32m     10\u001b[0m X_train[\u001b[38;5;124m'\u001b[39m\u001b[38;5;124mmeter_reading\u001b[39m\u001b[38;5;124m'\u001b[39m] \u001b[38;5;241m=\u001b[39m y_train\n\u001b[1;32m     11\u001b[0m data \u001b[38;5;241m=\u001b[39m X_train\u001b[38;5;241m.\u001b[39mcopy()\n\u001b[0;32m---> 12\u001b[0m data \u001b[38;5;241m=\u001b[39m \u001b[43mdata\u001b[49m\u001b[38;5;241;43m.\u001b[39;49m\u001b[43msort_values\u001b[49m\u001b[43m(\u001b[49m\u001b[43mby\u001b[49m\u001b[43m \u001b[49m\u001b[38;5;241;43m=\u001b[39;49m\u001b[43m \u001b[49m\u001b[38;5;124;43m'\u001b[39;49m\u001b[38;5;124;43mtimestamp\u001b[39;49m\u001b[38;5;124;43m'\u001b[39;49m\u001b[43m,\u001b[49m\u001b[43m \u001b[49m\u001b[43mascending\u001b[49m\u001b[43m \u001b[49m\u001b[38;5;241;43m=\u001b[39;49m\u001b[43m \u001b[49m\u001b[38;5;28;43;01mTrue\u001b[39;49;00m\u001b[43m)\u001b[49m\n",
      "File \u001b[0;32m/usr/local/lib/python3.9/site-packages/pandas/util/_decorators.py:311\u001b[0m, in \u001b[0;36mdeprecate_nonkeyword_arguments.<locals>.decorate.<locals>.wrapper\u001b[0;34m(*args, **kwargs)\u001b[0m\n\u001b[1;32m    305\u001b[0m \u001b[38;5;28;01mif\u001b[39;00m \u001b[38;5;28mlen\u001b[39m(args) \u001b[38;5;241m>\u001b[39m num_allow_args:\n\u001b[1;32m    306\u001b[0m     warnings\u001b[38;5;241m.\u001b[39mwarn(\n\u001b[1;32m    307\u001b[0m         msg\u001b[38;5;241m.\u001b[39mformat(arguments\u001b[38;5;241m=\u001b[39marguments),\n\u001b[1;32m    308\u001b[0m         \u001b[38;5;167;01mFutureWarning\u001b[39;00m,\n\u001b[1;32m    309\u001b[0m         stacklevel\u001b[38;5;241m=\u001b[39mstacklevel,\n\u001b[1;32m    310\u001b[0m     )\n\u001b[0;32m--> 311\u001b[0m \u001b[38;5;28;01mreturn\u001b[39;00m \u001b[43mfunc\u001b[49m\u001b[43m(\u001b[49m\u001b[38;5;241;43m*\u001b[39;49m\u001b[43margs\u001b[49m\u001b[43m,\u001b[49m\u001b[43m \u001b[49m\u001b[38;5;241;43m*\u001b[39;49m\u001b[38;5;241;43m*\u001b[39;49m\u001b[43mkwargs\u001b[49m\u001b[43m)\u001b[49m\n",
      "File \u001b[0;32m/usr/local/lib/python3.9/site-packages/pandas/core/frame.py:6336\u001b[0m, in \u001b[0;36mDataFrame.sort_values\u001b[0;34m(self, by, axis, ascending, inplace, kind, na_position, ignore_index, key)\u001b[0m\n\u001b[1;32m   6333\u001b[0m \u001b[38;5;28;01melse\u001b[39;00m:\n\u001b[1;32m   6334\u001b[0m     \u001b[38;5;28;01mreturn\u001b[39;00m \u001b[38;5;28mself\u001b[39m\u001b[38;5;241m.\u001b[39mcopy()\n\u001b[0;32m-> 6336\u001b[0m new_data \u001b[38;5;241m=\u001b[39m \u001b[38;5;28;43mself\u001b[39;49m\u001b[38;5;241;43m.\u001b[39;49m\u001b[43m_mgr\u001b[49m\u001b[38;5;241;43m.\u001b[39;49m\u001b[43mtake\u001b[49m\u001b[43m(\u001b[49m\n\u001b[1;32m   6337\u001b[0m \u001b[43m    \u001b[49m\u001b[43mindexer\u001b[49m\u001b[43m,\u001b[49m\u001b[43m \u001b[49m\u001b[43maxis\u001b[49m\u001b[38;5;241;43m=\u001b[39;49m\u001b[38;5;28;43mself\u001b[39;49m\u001b[38;5;241;43m.\u001b[39;49m\u001b[43m_get_block_manager_axis\u001b[49m\u001b[43m(\u001b[49m\u001b[43maxis\u001b[49m\u001b[43m)\u001b[49m\u001b[43m,\u001b[49m\u001b[43m \u001b[49m\u001b[43mverify\u001b[49m\u001b[38;5;241;43m=\u001b[39;49m\u001b[38;5;28;43;01mFalse\u001b[39;49;00m\n\u001b[1;32m   6338\u001b[0m \u001b[43m\u001b[49m\u001b[43m)\u001b[49m\n\u001b[1;32m   6340\u001b[0m \u001b[38;5;28;01mif\u001b[39;00m ignore_index:\n\u001b[1;32m   6341\u001b[0m     new_data\u001b[38;5;241m.\u001b[39mset_axis(\n\u001b[1;32m   6342\u001b[0m         \u001b[38;5;28mself\u001b[39m\u001b[38;5;241m.\u001b[39m_get_block_manager_axis(axis), default_index(\u001b[38;5;28mlen\u001b[39m(indexer))\n\u001b[1;32m   6343\u001b[0m     )\n",
      "File \u001b[0;32m/usr/local/lib/python3.9/site-packages/pandas/core/internals/managers.py:900\u001b[0m, in \u001b[0;36mBaseBlockManager.take\u001b[0;34m(self, indexer, axis, verify)\u001b[0m\n\u001b[1;32m    897\u001b[0m indexer \u001b[38;5;241m=\u001b[39m maybe_convert_indices(indexer, n, verify\u001b[38;5;241m=\u001b[39mverify)\n\u001b[1;32m    899\u001b[0m new_labels \u001b[38;5;241m=\u001b[39m \u001b[38;5;28mself\u001b[39m\u001b[38;5;241m.\u001b[39maxes[axis]\u001b[38;5;241m.\u001b[39mtake(indexer)\n\u001b[0;32m--> 900\u001b[0m \u001b[38;5;28;01mreturn\u001b[39;00m \u001b[38;5;28;43mself\u001b[39;49m\u001b[38;5;241;43m.\u001b[39;49m\u001b[43mreindex_indexer\u001b[49m\u001b[43m(\u001b[49m\n\u001b[1;32m    901\u001b[0m \u001b[43m    \u001b[49m\u001b[43mnew_axis\u001b[49m\u001b[38;5;241;43m=\u001b[39;49m\u001b[43mnew_labels\u001b[49m\u001b[43m,\u001b[49m\n\u001b[1;32m    902\u001b[0m \u001b[43m    \u001b[49m\u001b[43mindexer\u001b[49m\u001b[38;5;241;43m=\u001b[39;49m\u001b[43mindexer\u001b[49m\u001b[43m,\u001b[49m\n\u001b[1;32m    903\u001b[0m \u001b[43m    \u001b[49m\u001b[43maxis\u001b[49m\u001b[38;5;241;43m=\u001b[39;49m\u001b[43maxis\u001b[49m\u001b[43m,\u001b[49m\n\u001b[1;32m    904\u001b[0m \u001b[43m    \u001b[49m\u001b[43mallow_dups\u001b[49m\u001b[38;5;241;43m=\u001b[39;49m\u001b[38;5;28;43;01mTrue\u001b[39;49;00m\u001b[43m,\u001b[49m\n\u001b[1;32m    905\u001b[0m \u001b[43m    \u001b[49m\u001b[43mconsolidate\u001b[49m\u001b[38;5;241;43m=\u001b[39;49m\u001b[38;5;28;43;01mFalse\u001b[39;49;00m\u001b[43m,\u001b[49m\n\u001b[1;32m    906\u001b[0m \u001b[43m\u001b[49m\u001b[43m)\u001b[49m\n",
      "File \u001b[0;32m/usr/local/lib/python3.9/site-packages/pandas/core/internals/managers.py:692\u001b[0m, in \u001b[0;36mBaseBlockManager.reindex_indexer\u001b[0;34m(self, new_axis, indexer, axis, fill_value, allow_dups, copy, consolidate, only_slice, use_na_proxy)\u001b[0m\n\u001b[1;32m    685\u001b[0m     new_blocks \u001b[38;5;241m=\u001b[39m \u001b[38;5;28mself\u001b[39m\u001b[38;5;241m.\u001b[39m_slice_take_blocks_ax0(\n\u001b[1;32m    686\u001b[0m         indexer,\n\u001b[1;32m    687\u001b[0m         fill_value\u001b[38;5;241m=\u001b[39mfill_value,\n\u001b[1;32m    688\u001b[0m         only_slice\u001b[38;5;241m=\u001b[39monly_slice,\n\u001b[1;32m    689\u001b[0m         use_na_proxy\u001b[38;5;241m=\u001b[39muse_na_proxy,\n\u001b[1;32m    690\u001b[0m     )\n\u001b[1;32m    691\u001b[0m \u001b[38;5;28;01melse\u001b[39;00m:\n\u001b[0;32m--> 692\u001b[0m     new_blocks \u001b[38;5;241m=\u001b[39m [\n\u001b[1;32m    693\u001b[0m         blk\u001b[38;5;241m.\u001b[39mtake_nd(\n\u001b[1;32m    694\u001b[0m             indexer,\n\u001b[1;32m    695\u001b[0m             axis\u001b[38;5;241m=\u001b[39m\u001b[38;5;241m1\u001b[39m,\n\u001b[1;32m    696\u001b[0m             fill_value\u001b[38;5;241m=\u001b[39m(\n\u001b[1;32m    697\u001b[0m                 fill_value \u001b[38;5;28;01mif\u001b[39;00m fill_value \u001b[38;5;129;01mis\u001b[39;00m \u001b[38;5;129;01mnot\u001b[39;00m \u001b[38;5;28;01mNone\u001b[39;00m \u001b[38;5;28;01melse\u001b[39;00m blk\u001b[38;5;241m.\u001b[39mfill_value\n\u001b[1;32m    698\u001b[0m             ),\n\u001b[1;32m    699\u001b[0m         )\n\u001b[1;32m    700\u001b[0m         \u001b[38;5;28;01mfor\u001b[39;00m blk \u001b[38;5;129;01min\u001b[39;00m \u001b[38;5;28mself\u001b[39m\u001b[38;5;241m.\u001b[39mblocks\n\u001b[1;32m    701\u001b[0m     ]\n\u001b[1;32m    703\u001b[0m new_axes \u001b[38;5;241m=\u001b[39m \u001b[38;5;28mlist\u001b[39m(\u001b[38;5;28mself\u001b[39m\u001b[38;5;241m.\u001b[39maxes)\n\u001b[1;32m    704\u001b[0m new_axes[axis] \u001b[38;5;241m=\u001b[39m new_axis\n",
      "File \u001b[0;32m/usr/local/lib/python3.9/site-packages/pandas/core/internals/managers.py:693\u001b[0m, in \u001b[0;36m<listcomp>\u001b[0;34m(.0)\u001b[0m\n\u001b[1;32m    685\u001b[0m     new_blocks \u001b[38;5;241m=\u001b[39m \u001b[38;5;28mself\u001b[39m\u001b[38;5;241m.\u001b[39m_slice_take_blocks_ax0(\n\u001b[1;32m    686\u001b[0m         indexer,\n\u001b[1;32m    687\u001b[0m         fill_value\u001b[38;5;241m=\u001b[39mfill_value,\n\u001b[1;32m    688\u001b[0m         only_slice\u001b[38;5;241m=\u001b[39monly_slice,\n\u001b[1;32m    689\u001b[0m         use_na_proxy\u001b[38;5;241m=\u001b[39muse_na_proxy,\n\u001b[1;32m    690\u001b[0m     )\n\u001b[1;32m    691\u001b[0m \u001b[38;5;28;01melse\u001b[39;00m:\n\u001b[1;32m    692\u001b[0m     new_blocks \u001b[38;5;241m=\u001b[39m [\n\u001b[0;32m--> 693\u001b[0m         \u001b[43mblk\u001b[49m\u001b[38;5;241;43m.\u001b[39;49m\u001b[43mtake_nd\u001b[49m\u001b[43m(\u001b[49m\n\u001b[1;32m    694\u001b[0m \u001b[43m            \u001b[49m\u001b[43mindexer\u001b[49m\u001b[43m,\u001b[49m\n\u001b[1;32m    695\u001b[0m \u001b[43m            \u001b[49m\u001b[43maxis\u001b[49m\u001b[38;5;241;43m=\u001b[39;49m\u001b[38;5;241;43m1\u001b[39;49m\u001b[43m,\u001b[49m\n\u001b[1;32m    696\u001b[0m \u001b[43m            \u001b[49m\u001b[43mfill_value\u001b[49m\u001b[38;5;241;43m=\u001b[39;49m\u001b[43m(\u001b[49m\n\u001b[1;32m    697\u001b[0m \u001b[43m                \u001b[49m\u001b[43mfill_value\u001b[49m\u001b[43m \u001b[49m\u001b[38;5;28;43;01mif\u001b[39;49;00m\u001b[43m \u001b[49m\u001b[43mfill_value\u001b[49m\u001b[43m \u001b[49m\u001b[38;5;129;43;01mis\u001b[39;49;00m\u001b[43m \u001b[49m\u001b[38;5;129;43;01mnot\u001b[39;49;00m\u001b[43m \u001b[49m\u001b[38;5;28;43;01mNone\u001b[39;49;00m\u001b[43m \u001b[49m\u001b[38;5;28;43;01melse\u001b[39;49;00m\u001b[43m \u001b[49m\u001b[43mblk\u001b[49m\u001b[38;5;241;43m.\u001b[39;49m\u001b[43mfill_value\u001b[49m\n\u001b[1;32m    698\u001b[0m \u001b[43m            \u001b[49m\u001b[43m)\u001b[49m\u001b[43m,\u001b[49m\n\u001b[1;32m    699\u001b[0m \u001b[43m        \u001b[49m\u001b[43m)\u001b[49m\n\u001b[1;32m    700\u001b[0m         \u001b[38;5;28;01mfor\u001b[39;00m blk \u001b[38;5;129;01min\u001b[39;00m \u001b[38;5;28mself\u001b[39m\u001b[38;5;241m.\u001b[39mblocks\n\u001b[1;32m    701\u001b[0m     ]\n\u001b[1;32m    703\u001b[0m new_axes \u001b[38;5;241m=\u001b[39m \u001b[38;5;28mlist\u001b[39m(\u001b[38;5;28mself\u001b[39m\u001b[38;5;241m.\u001b[39maxes)\n\u001b[1;32m    704\u001b[0m new_axes[axis] \u001b[38;5;241m=\u001b[39m new_axis\n",
      "File \u001b[0;32m/usr/local/lib/python3.9/site-packages/pandas/core/internals/blocks.py:1139\u001b[0m, in \u001b[0;36mBlock.take_nd\u001b[0;34m(self, indexer, axis, new_mgr_locs, fill_value)\u001b[0m\n\u001b[1;32m   1136\u001b[0m \u001b[38;5;28;01melse\u001b[39;00m:\n\u001b[1;32m   1137\u001b[0m     allow_fill \u001b[38;5;241m=\u001b[39m \u001b[38;5;28;01mTrue\u001b[39;00m\n\u001b[0;32m-> 1139\u001b[0m new_values \u001b[38;5;241m=\u001b[39m \u001b[43malgos\u001b[49m\u001b[38;5;241;43m.\u001b[39;49m\u001b[43mtake_nd\u001b[49m\u001b[43m(\u001b[49m\n\u001b[1;32m   1140\u001b[0m \u001b[43m    \u001b[49m\u001b[43mvalues\u001b[49m\u001b[43m,\u001b[49m\u001b[43m \u001b[49m\u001b[43mindexer\u001b[49m\u001b[43m,\u001b[49m\u001b[43m \u001b[49m\u001b[43maxis\u001b[49m\u001b[38;5;241;43m=\u001b[39;49m\u001b[43maxis\u001b[49m\u001b[43m,\u001b[49m\u001b[43m \u001b[49m\u001b[43mallow_fill\u001b[49m\u001b[38;5;241;43m=\u001b[39;49m\u001b[43mallow_fill\u001b[49m\u001b[43m,\u001b[49m\u001b[43m \u001b[49m\u001b[43mfill_value\u001b[49m\u001b[38;5;241;43m=\u001b[39;49m\u001b[43mfill_value\u001b[49m\n\u001b[1;32m   1141\u001b[0m \u001b[43m\u001b[49m\u001b[43m)\u001b[49m\n\u001b[1;32m   1143\u001b[0m \u001b[38;5;66;03m# Called from three places in managers, all of which satisfy\u001b[39;00m\n\u001b[1;32m   1144\u001b[0m \u001b[38;5;66;03m#  this assertion\u001b[39;00m\n\u001b[1;32m   1145\u001b[0m \u001b[38;5;28;01massert\u001b[39;00m \u001b[38;5;129;01mnot\u001b[39;00m (axis \u001b[38;5;241m==\u001b[39m \u001b[38;5;241m0\u001b[39m \u001b[38;5;129;01mand\u001b[39;00m new_mgr_locs \u001b[38;5;129;01mis\u001b[39;00m \u001b[38;5;28;01mNone\u001b[39;00m)\n",
      "File \u001b[0;32m/usr/local/lib/python3.9/site-packages/pandas/core/array_algos/take.py:117\u001b[0m, in \u001b[0;36mtake_nd\u001b[0;34m(arr, indexer, axis, fill_value, allow_fill)\u001b[0m\n\u001b[1;32m    114\u001b[0m     \u001b[38;5;28;01mreturn\u001b[39;00m arr\u001b[38;5;241m.\u001b[39mtake(indexer, fill_value\u001b[38;5;241m=\u001b[39mfill_value, allow_fill\u001b[38;5;241m=\u001b[39mallow_fill)\n\u001b[1;32m    116\u001b[0m arr \u001b[38;5;241m=\u001b[39m np\u001b[38;5;241m.\u001b[39masarray(arr)\n\u001b[0;32m--> 117\u001b[0m \u001b[38;5;28;01mreturn\u001b[39;00m \u001b[43m_take_nd_ndarray\u001b[49m\u001b[43m(\u001b[49m\u001b[43marr\u001b[49m\u001b[43m,\u001b[49m\u001b[43m \u001b[49m\u001b[43mindexer\u001b[49m\u001b[43m,\u001b[49m\u001b[43m \u001b[49m\u001b[43maxis\u001b[49m\u001b[43m,\u001b[49m\u001b[43m \u001b[49m\u001b[43mfill_value\u001b[49m\u001b[43m,\u001b[49m\u001b[43m \u001b[49m\u001b[43mallow_fill\u001b[49m\u001b[43m)\u001b[49m\n",
      "File \u001b[0;32m/usr/local/lib/python3.9/site-packages/pandas/core/array_algos/take.py:163\u001b[0m, in \u001b[0;36m_take_nd_ndarray\u001b[0;34m(arr, indexer, axis, fill_value, allow_fill)\u001b[0m\n\u001b[1;32m    158\u001b[0m     out \u001b[38;5;241m=\u001b[39m np\u001b[38;5;241m.\u001b[39mempty(out_shape, dtype\u001b[38;5;241m=\u001b[39mdtype)\n\u001b[1;32m    160\u001b[0m func \u001b[38;5;241m=\u001b[39m _get_take_nd_function(\n\u001b[1;32m    161\u001b[0m     arr\u001b[38;5;241m.\u001b[39mndim, arr\u001b[38;5;241m.\u001b[39mdtype, out\u001b[38;5;241m.\u001b[39mdtype, axis\u001b[38;5;241m=\u001b[39maxis, mask_info\u001b[38;5;241m=\u001b[39mmask_info\n\u001b[1;32m    162\u001b[0m )\n\u001b[0;32m--> 163\u001b[0m \u001b[43mfunc\u001b[49m\u001b[43m(\u001b[49m\u001b[43marr\u001b[49m\u001b[43m,\u001b[49m\u001b[43m \u001b[49m\u001b[43mindexer\u001b[49m\u001b[43m,\u001b[49m\u001b[43m \u001b[49m\u001b[43mout\u001b[49m\u001b[43m,\u001b[49m\u001b[43m \u001b[49m\u001b[43mfill_value\u001b[49m\u001b[43m)\u001b[49m\n\u001b[1;32m    165\u001b[0m \u001b[38;5;28;01mif\u001b[39;00m flip_order:\n\u001b[1;32m    166\u001b[0m     out \u001b[38;5;241m=\u001b[39m out\u001b[38;5;241m.\u001b[39mT\n",
      "\u001b[0;31mKeyboardInterrupt\u001b[0m: "
     ]
    }
   ],
   "source": [
    "from sklearn.model_selection import train_test_split\n",
    "\n",
    "# train and test sets\n",
    "X, Xtest, y, ytest = train_test_split(data.drop('meter_reading', axis = 1), data['meter_reading'], \\\n",
    "                                      test_size=0.15, random_state=0, shuffle = True)\n",
    "\n",
    "# train and validation sets\n",
    "X_train, X_val, y_train, y_val = train_test_split(X, y, test_size=0.15, random_state=0, shuffle = False)\n",
    "\n",
    "X_train['meter_reading'] = y_train\n",
    "data = X_train.copy()\n",
    "data = data.sort_values(by = 'timestamp', ascending = True)"
   ]
  },
  {
   "cell_type": "markdown",
   "id": "4a9ce745",
   "metadata": {},
   "source": [
    "## 2. Analysis \n",
    "\n",
    "**We will conduct following analysis**:\n",
    "\n",
    "1. Target variable\n",
    "2. Missing data\n",
    "3. Variable types (categorical and numerical)\n",
    "4. Categorical Variables\n",
    "    - Cardinality\n",
    "    - Rare Labels\n",
    "    - Distribution\n",
    "\n",
    "5. Discrete variables\n",
    "\n",
    "6. Continious variables\n",
    "\n",
    "    \n",
    "    \n",
    "### 2.1. Target variable"
   ]
  },
  {
   "cell_type": "code",
   "execution_count": null,
   "id": "5540ef82",
   "metadata": {},
   "outputs": [],
   "source": [
    "# exploring target distribution\n",
    "\n",
    "data['meter_reading'].describe()\n",
    "\n",
    "print('{}% of the records in data set have zero value.'.format(round(len(data[data['meter_reading'] == 0]) / len(data['meter_reading']) * 100),2))"
   ]
  },
  {
   "cell_type": "markdown",
   "id": "17850507",
   "metadata": {},
   "source": [
    "75% of the whole target variable lays below 268. And there are some very high values as 2*10^7."
   ]
  },
  {
   "cell_type": "code",
   "execution_count": null,
   "id": "17854149",
   "metadata": {},
   "outputs": [],
   "source": [
    "random_id = np.random.randint(0, len(data['building_id'].unique()), 3)\n",
    "\n",
    "print('Distribution of energy usage for three random buildings')\n",
    "\n",
    "fig, axs = plt.subplots(nrows=1, ncols=3, figsize=(18,4))\n",
    "\n",
    "for i, ax in enumerate(axs.flatten()):\n",
    "    ax.hist(data[data['building_id']== random_id[i]]['meter_reading'])\n",
    "    ax.set_title('Building {}'.format(random_id[i]))\n",
    "    "
   ]
  },
  {
   "cell_type": "code",
   "execution_count": null,
   "id": "e0ed40b0",
   "metadata": {},
   "outputs": [],
   "source": [
    "print('Energy usage vs date for three random buildings')\n",
    "\n",
    "fig, axs = plt.subplots(nrows=1, ncols=3, figsize=(18,4))\n",
    "\n",
    "for i, ax in enumerate(axs.flatten()):\n",
    "    ax.plot(data[data['building_id']== random_id[i]]['timestamp'],data[data['building_id']== random_id[i]]['meter_reading'] )\n",
    "    ax.set_title('Building {}'.format(random_id[i]))\n",
    "    "
   ]
  },
  {
   "cell_type": "code",
   "execution_count": null,
   "id": "d9a13105",
   "metadata": {},
   "outputs": [],
   "source": [
    "data.groupby('timestamp')['meter_reading'].median().plot(title = 'Mean value of the energy usage during the year')"
   ]
  },
  {
   "cell_type": "markdown",
   "id": "384d3b90",
   "metadata": {},
   "source": [
    "Target \"meter_reading\" is time-dependent variable with a big variance. \n",
    "\n",
    "Let's see how target looks without zero value."
   ]
  },
  {
   "cell_type": "code",
   "execution_count": null,
   "id": "a31c17e1",
   "metadata": {},
   "outputs": [],
   "source": [
    "data['meter_reading'][data['meter_reading']!=0].hist(bins=100, figsize = (7,5))"
   ]
  },
  {
   "cell_type": "code",
   "execution_count": null,
   "id": "7887f0ff",
   "metadata": {},
   "outputs": [],
   "source": [
    "np.log(data['meter_reading'][data['meter_reading']!=0]).hist(bins=100, figsize = (7,5))"
   ]
  },
  {
   "cell_type": "markdown",
   "id": "4facbea2",
   "metadata": {},
   "source": [
    "If we remove zero values of target variable (it is 9% of the dataset) and then make a log transformation of it we will get normay distributed variable."
   ]
  },
  {
   "cell_type": "code",
   "execution_count": null,
   "id": "43cf451d",
   "metadata": {},
   "outputs": [],
   "source": [
    "# mode of each column\n",
    "\n",
    "data[data['meter_reading']==0].mode()"
   ]
  },
  {
   "cell_type": "markdown",
   "id": "da9a9f8d",
   "metadata": {},
   "source": [
    "### 2.2. Missing Variables"
   ]
  },
  {
   "cell_type": "code",
   "execution_count": null,
   "id": "337fd980",
   "metadata": {
    "scrolled": true
   },
   "outputs": [],
   "source": [
    "vars_with_na = [\n",
    "    var for var in data.columns\n",
    "    if data[var].isnull().mean() > 0 \n",
    "]\n",
    "\n",
    "data[vars_with_na].isnull().mean().sort_values(ascending = False)"
   ]
  },
  {
   "cell_type": "markdown",
   "id": "213442b7",
   "metadata": {},
   "source": [
    "First four variables contain big amount of missing values."
   ]
  },
  {
   "cell_type": "markdown",
   "id": "38d875ba",
   "metadata": {},
   "source": [
    "### 2.3. Variable Types"
   ]
  },
  {
   "cell_type": "code",
   "execution_count": null,
   "id": "6fc4756a",
   "metadata": {},
   "outputs": [],
   "source": [
    "data.dtypes"
   ]
  },
  {
   "cell_type": "code",
   "execution_count": null,
   "id": "bd96b33e",
   "metadata": {},
   "outputs": [],
   "source": [
    "# categorical variable\n",
    "\n",
    "data['primary_use'].unique()"
   ]
  },
  {
   "cell_type": "markdown",
   "id": "33b4610d",
   "metadata": {},
   "source": [
    "We have the only categorical variable \"primary_use\"."
   ]
  },
  {
   "cell_type": "code",
   "execution_count": null,
   "id": "5e2a0dc5",
   "metadata": {},
   "outputs": [],
   "source": [
    "# discrete variables (<= 31 unique values (31 - max number of days in month))\n",
    "\n",
    "discrete_vars = [var for var in data.columns if len(data[var].unique())<32 and var != 'primary_use']\n",
    "\n",
    "print('Number of discrete variables: ', len(discrete_vars))\n",
    "print(discrete_vars)"
   ]
  },
  {
   "cell_type": "code",
   "execution_count": null,
   "id": "d69b0a95",
   "metadata": {},
   "outputs": [],
   "source": [
    "# continious variables\n",
    "\n",
    "continious_vars = [var for var in data.columns if var not in discrete_vars and var not in ['primary_use','timestamp', 'building_id', 'year_built']]\n",
    "\n",
    "print('Number of continious variables: ', len(continious_vars))\n",
    "print(continious_vars)"
   ]
  },
  {
   "cell_type": "code",
   "execution_count": null,
   "id": "d33ba542",
   "metadata": {},
   "outputs": [],
   "source": [
    "data[continious_vars].head(2)"
   ]
  },
  {
   "cell_type": "markdown",
   "id": "1efe883a",
   "metadata": {},
   "source": [
    "### 2.4. Categorical Variable\n",
    "\n",
    "We have the only categorical variable \"primary_use\"."
   ]
  },
  {
   "cell_type": "code",
   "execution_count": null,
   "id": "ece86d81",
   "metadata": {},
   "outputs": [],
   "source": [
    "# cardinality\n",
    "print('Number of unique labels is {}.'.format(len(data['primary_use'].unique())))"
   ]
  },
  {
   "cell_type": "code",
   "execution_count": null,
   "id": "10042867",
   "metadata": {},
   "outputs": [],
   "source": [
    "# distribution of labels\n",
    "\n",
    "tmp = data.groupby('primary_use')['meter_reading'].count().sort_values(ascending=False)\n",
    "\n",
    "tmp.plot.bar(figsize=(12,5))"
   ]
  },
  {
   "cell_type": "code",
   "execution_count": null,
   "id": "4936279b",
   "metadata": {},
   "outputs": [],
   "source": [
    "# target based on 'primary_use'\n",
    "\n",
    "order = list(tmp.index)\n",
    "\n",
    "sns.catplot(x='primary_use', y = 'meter_reading', data=data[['primary_use','meter_reading']] , order = order, kind = 'box', height = 6, aspect = 3)\n",
    "plt.tight_layout()\n",
    "plt.xticks(rotation=45)\n",
    "plt.show()"
   ]
  },
  {
   "cell_type": "code",
   "execution_count": null,
   "id": "cf57f50a",
   "metadata": {},
   "outputs": [],
   "source": [
    "# remove outliers from target variable\n",
    "\n",
    "Q1 = data['meter_reading'].quantile(0.25)\n",
    "Q3 = data['meter_reading'].quantile(0.75)\n",
    "IQR = Q3-Q1\n",
    "\n",
    "data_noout = data[~((data['meter_reading'] < (Q1 - 1.5 * IQR)) | (data['meter_reading'] > (Q3 + 1.5 * IQR)))]\n",
    "\n",
    "print('IQR = {} \\n\\nDescription = \\n{}'.format(IQR, data['meter_reading'].describe()))\n",
    "print('\\n\\n\\nWe removed as outliers {}% of training set.'.format(round((1-data_noout.shape[0]/data.shape[0]) * 100, 2)))"
   ]
  },
  {
   "cell_type": "code",
   "execution_count": null,
   "id": "138f9b18",
   "metadata": {},
   "outputs": [],
   "source": [
    "# target without outliers based on 'primary_use'\n",
    "\n",
    "sns.catplot(x='primary_use', y = 'meter_reading', data=data_noout[['primary_use','meter_reading']] , order=order, kind = 'box', height = 6, aspect = 3)\n",
    "plt.tight_layout()\n",
    "plt.xticks(rotation=45)\n",
    "plt.show()"
   ]
  },
  {
   "cell_type": "markdown",
   "id": "8aadea7d",
   "metadata": {},
   "source": [
    "\n",
    "- We have the only categorical variable \"primary_use\" which has a low cardinality (only 16 unique values).\n",
    "- There are the most records corresponding to Education and Office buildings. \n",
    "- Some Education buildigns use very high amount of energy (all outliers are in this category).\n",
    "- If we remove outliers the Healthcare and Manufacturing buildings use more energy than Education in general."
   ]
  },
  {
   "cell_type": "markdown",
   "id": "4e4369ba",
   "metadata": {},
   "source": [
    "### 2.5. Discrete Variables"
   ]
  },
  {
   "cell_type": "code",
   "execution_count": null,
   "id": "5721bcce",
   "metadata": {},
   "outputs": [],
   "source": [
    "# target with and without outliers  based on discrete variables\n",
    "for var in discrete_vars:\n",
    "    \n",
    "    order = list(data[var].unique()).sort()\n",
    "    \n",
    "    sns.catplot(x=var, y = 'meter_reading', data=data[[var,'meter_reading']], order = order, kind = 'box', height = 6, aspect = 3)\n",
    "    sns.catplot(x=var, y = 'meter_reading', data=data_noout[[var,'meter_reading']], order = order, kind = 'box', height = 6, aspect = 3)\n",
    "    plt.show()\n",
    "        \n",
    "    print('=====================================================================================================================')"
   ]
  },
  {
   "cell_type": "code",
   "execution_count": null,
   "id": "815b1984",
   "metadata": {},
   "outputs": [],
   "source": [
    "for var in discrete_vars:\n",
    "\n",
    "    data.groupby(var)['meter_reading'].count().plot.bar(figsize=(16,5))\n",
    "    plt.show()\n",
    "    data_noout.groupby(var)['meter_reading'].count().plot.bar(figsize=(16,5))\n",
    "    plt.show()\n",
    "    \n",
    "    print('=====================================================================================================================')"
   ]
  },
  {
   "cell_type": "markdown",
   "id": "7305dc66",
   "metadata": {},
   "source": [
    "From investigating how discrete variables have influence on the target we can make following conclusions. \n",
    "\n",
    "**Without outliers**:\n",
    "\n",
    "- Hotwater (2) has the highst values of energy usage. \n",
    "- Target is highly depended on site_id, location of building.\n",
    "- Energy usage lineary increasing with the number of floors (as expected).\n",
    "- It doesn't really depend on cloud_couverage.\n",
    "- Energy usage is increasing from 6 to 9 month. Probably on cooling the buildings.\n",
    "- It doesn't really depend on day of the month.\n",
    "- However, during the day hours energy usage is increasing \n",
    "\n",
    "**Outliers**:\n",
    "\n",
    "- Hotwater (2) has the highst values of energy usage. \n",
    "- As well as buildings which are located in site_id = 13.\n",
    "- Buildings with the number of floors = 2 has the most outliers.\n",
    "- Outliers have mostly even value for the cloud_coverage variable.\n",
    "- Months from 7 to 9 almost don't contain outliers.\n",
    "- Number of floors which is higher than 7 use much more energy\n",
    "- June - September are the mounth which require the most energy usage\n",
    "- It doesn't really depend on day of month\n",
    "- But around 10am till 5pm during the day mean energy usage is increasing"
   ]
  },
  {
   "cell_type": "markdown",
   "id": "15badce2",
   "metadata": {},
   "source": [
    "### 2.6. Continious Variables"
   ]
  },
  {
   "cell_type": "code",
   "execution_count": null,
   "id": "f6debdc9",
   "metadata": {},
   "outputs": [],
   "source": [
    "print(continious_vars)"
   ]
  },
  {
   "cell_type": "code",
   "execution_count": null,
   "id": "863d4b63",
   "metadata": {},
   "outputs": [],
   "source": [
    "data[continious_vars].head()"
   ]
  },
  {
   "cell_type": "code",
   "execution_count": null,
   "id": "7246e216",
   "metadata": {},
   "outputs": [],
   "source": [
    "data[continious_vars].hist(bins = 100, figsize = (20,15))\n",
    "plt.show()"
   ]
  },
  {
   "cell_type": "code",
   "execution_count": null,
   "id": "84e439d5",
   "metadata": {},
   "outputs": [],
   "source": [
    "# logarithmic transformation of \"square_feet\" disitribution\n",
    "np.log(data['square_feet']).hist(bins = 100, figsize = (7,5))"
   ]
  },
  {
   "cell_type": "code",
   "execution_count": null,
   "id": "48aeb3f8",
   "metadata": {},
   "outputs": [],
   "source": [
    "# distributioin of target variable without outliers\n",
    "\n",
    "data_noout['meter_reading'].hist(bins=100, figsize = (7,5))"
   ]
  },
  {
   "cell_type": "markdown",
   "id": "a6c51599",
   "metadata": {},
   "source": [
    "- Sea_level_pressure, air_temperature, dew_temperature can be described by normal distribution\n",
    "- square_feet after logarithmic tranformation also can be described as normal distribution \n"
   ]
  },
  {
   "cell_type": "markdown",
   "id": "f7a70e64",
   "metadata": {},
   "source": [
    "## 3. Other Data Dependencies\n",
    "\n",
    "We can suppose that floor_count and average year_built highly depends on primary_use. As well as weather variables depend on month. \n",
    "\n",
    "If we are right we can use this information for impacting missing values in corresponded categories."
   ]
  },
  {
   "cell_type": "code",
   "execution_count": null,
   "id": "d6701d02",
   "metadata": {},
   "outputs": [],
   "source": [
    "# floor_count vs primary_use\n",
    "\n",
    "sns.catplot(x='floor_count', y = 'primary_use', data=data[['primary_use','floor_count']],  kind = 'box', height = 6, aspect = 3)\n",
    "plt.tight_layout()"
   ]
  },
  {
   "cell_type": "code",
   "execution_count": null,
   "id": "8e289255",
   "metadata": {},
   "outputs": [],
   "source": [
    "# floor_count vs primary_use\n",
    "\n",
    "sns.catplot(x='year_built', y = 'primary_use', data=X_train[['primary_use','year_built']],  kind = 'box', height = 6, aspect = 3)\n",
    "plt.tight_layout()"
   ]
  },
  {
   "cell_type": "markdown",
   "id": "eec82f1f",
   "metadata": {},
   "source": [
    "From or analysis we can observe logical results:\n",
    "\n",
    "   - Retail, Religious worships, Entertainment, Healthcare buildings has usually less then 3 floors.\n",
    "   - Residences, Education and Office buildings has the highest number of floors, sometime with very high values.\n",
    "    \n",
    "\n",
    "   - Science buildings were build in first half of last centure. Manufactures  - till the 1980.\n",
    "   - Parking places mostly in 21 centure.\n",
    "   - All storage buuldings were build around 1980 year.\n",
    "   - After this Reatil buildings started to be built. "
   ]
  },
  {
   "cell_type": "code",
   "execution_count": null,
   "id": "7b87cf15",
   "metadata": {},
   "outputs": [],
   "source": [
    "# dependencies of weather variables from month\n",
    "weather_vars = ['air_temperature', 'cloud_coverage', 'dew_temperature', 'precip_depth_1_hr',\n",
    "                           'sea_level_pressure', 'wind_direction', 'wind_speed']\n",
    "\n",
    "for var in weather_vars:\n",
    "    sns.catplot(x='month', y = var, data=X_train[['month',var]],  kind = 'box', height = 6, aspect = 3)\n",
    "    plt.tight_layout()"
   ]
  },
  {
   "cell_type": "markdown",
   "id": "1683cc77",
   "metadata": {},
   "source": [
    "- Air-temperature, dew-temperature highly depend on month (increasing from 5 to 8).\n",
    "- Highest values of \"wind_speed\" as weel have an opposite dependency.\n",
    "- Wind directions slighly changes from 7 to 10 months.\n",
    "- 'sea_level_pressure' slightly goes downduring 5 till 9 months.\n",
    "- We don't see as well some not logical otliers among these variables."
   ]
  },
  {
   "cell_type": "code",
   "execution_count": null,
   "id": "a07fd19a",
   "metadata": {},
   "outputs": [],
   "source": []
  }
 ],
 "metadata": {
  "kernelspec": {
   "display_name": "Python 3 (ipykernel)",
   "language": "python",
   "name": "python3"
  },
  "language_info": {
   "codemirror_mode": {
    "name": "ipython",
    "version": 3
   },
   "file_extension": ".py",
   "mimetype": "text/x-python",
   "name": "python",
   "nbconvert_exporter": "python",
   "pygments_lexer": "ipython3",
   "version": "3.9.12"
  }
 },
 "nbformat": 4,
 "nbformat_minor": 5
}
